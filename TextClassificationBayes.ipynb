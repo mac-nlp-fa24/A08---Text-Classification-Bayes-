{
 "cells": [
  {
   "cell_type": "markdown",
   "id": "9f04e250-1930-4310-b897-bf01fc1b7856",
   "metadata": {},
   "source": [
    "# Text Classification and Bayes\n",
    "\n",
    "This activity's learning goals are to work towards being able to...\n",
    "\n",
    "1. Identify and describe the input and output structure for text classification tasks\n",
    "2. Explain the differences between generative and discriminative models for classification tasks\n",
    "3. Define and implement Naive Bayes for classification\n",
    "\n",
    "## Brief Review - Classification and Naive Bayes\n",
    "\n",
    "The task of classification is to assign a *class* (or *label*) to a *data point*. That is, given some kind of data, you want to determine which class it belongs to. Depending on the kind of classification task, these labels can vary. Text classification refers to a family of tasks where the data points in question come in text form. Formally, a text classification problem can be framed as one where a model is given a string of tokens $\\omega \\in \\Sigma^*$ and must assign it a class $c \\in C$. \n",
    "\n",
    "For instance, in *sentiment analysis*, a model is given some text (a movie review, or comments on media content, social media messages about a brand) and must label it's *sentiment*: is it positive, negative, or neutral? The classes $C$ here would be the labels *positive*, *negative*, and *neutral*.\n",
    "\n",
    "In *language identification* (or language ID), a model is given some text and must decide what language that text is written in. The classes here would be some set of languages, with perhaps a class indicating that the language couldn't be identified (or to capture languages we may have missed, not unlike an UNK token). \n",
    "\n",
    "Beyond these examples, there are many other tasks that fall under this label, including (if we're careful about how we frame them) language modeling or grammar checking!\n",
    "\n",
    "In a probabilistic framework, our instinct should be to model $p(c \\mid \\omega)$ --- the likelihood of the category given the text input. Naive Bayes makes a few moves to make this a usable strategy:\n",
    "\n",
    "First, since we are meant to label outputs, we assign $\\omega$ the category $c \\in C$ that maximizes $p(c \\mid \\omega)$. We write this as $\\text{arg}\\max\\limits_{c \\in C} p(c \\mid \\omega)$ \n",
    "\n",
    "Then, we observe that we can apply Bayes Rule to show that $p(c \\mid \\omega) = \\frac{p(\\omega \\mid c)p(c)}{p(\\omega)}$. Thus, we can say that \n",
    "\n",
    "$$ \\text{arg} \\max\\limits_{c \\in C} p(c \\mid \\omega) = \\text{arg} \\max\\limits_{c \\in C} \\frac{p(\\omega \\mid c)p(c)}{p(\\omega)} $$.\n",
    "\n",
    "Finally, we observe that $p(\\omega)$ will be the same for everything we're taking the argmax over. That is, we want to compare $\\frac{p(\\omega \\mid c)p(c)}{p(\\omega)}$ for every possible value of $c$, but changing $c$ doesn't change $p(\\omega)$, so we can ignore it when computing the argmax. Thus, we get that our label for the string $\\omega$ should be\n",
    "\n",
    "$$ \\text{arg} \\max\\limits_{c \\in C} p(c \\mid \\omega) = \\text{arg} \\max\\limits_{c \\in C} p(\\omega \\mid c)p(c) $$.\n",
    "\n",
    "Now we need to determine a way to estimate $p(\\omega \\mid c)$ (a *generative* model of the data (think of this as a language model specifically for class $c$!) and $p(c)$ (a probability distribution over the classes themselves!). \n",
    "\n",
    "\n",
    "## Your Task\n",
    "\n",
    "Let's build a Naive Bayes classifier! Following J&M, we will model our text as a *bag-of-words* --- that is, our features are going to be the words that appear in our text. Since this is Naive Bayes, we will assume our features are *indepedendent*, which means their we can decompose $p(\\omega \\mid c)$ into a product of the conditional probabilities of each feature (i.e., word): $\\prod_{w \\in \\omega} p(w \\mid C)$. Note that this is just a class-specific unigram LM!\n",
    "\n",
    "First, let's build the unigram LM part of our model. We'll load in a subset of the IMDB dataset released by [Maas et al. (2011)](https://ai.stanford.edu/~amaas/papers/wvSent_acl2011.pdf). This subset consists of 2500 IMDB reviews (1250 positive and 1250 negative) for training and 1000 (500 positive and 500 negative) for testing. "
   ]
  },
  {
   "cell_type": "code",
   "execution_count": null,
   "id": "d0009607-315c-4916-82f3-e4d611f395b1",
   "metadata": {},
   "outputs": [],
   "source": [
    "path = \"./data/train/{}.txt\"\n",
    "\n",
    "with open(path.format(\"pos\")) as pos_data_f:\n",
    "    pos_data = pos_data_f.read().split()\n",
    "\n",
    "with open(path.format(\"neg\")) as neg_data_f:\n",
    "    neg_data = neg_data_f.read().split()\n",
    "\n",
    "n_tokens = 40\n",
    "print(\"{} tokens of positive review text\".format(n_tokens))\n",
    "print(pos_data[:n_tokens])\n",
    "\n",
    "print(\"{} tokens of negative review text\".format(n_tokens))\n",
    "print(neg_data[:n_tokens])"
   ]
  },
  {
   "cell_type": "markdown",
   "id": "78c9fb49-5fd1-4452-badb-1e67d22bad52",
   "metadata": {},
   "source": [
    "Now let's build a unigram model. Of course, that's just counting word frequencies. I've made you do this several times already, so I'll provide the code to you this time!\n",
    "\n",
    "Note that this is essentially the WordCounter activity from COMP128 (Data Structures!). "
   ]
  },
  {
   "cell_type": "code",
   "execution_count": null,
   "id": "931e7a84-326b-433f-86e7-62c44856f970",
   "metadata": {},
   "outputs": [],
   "source": [
    "from typing import Sequence, Iterable, Mapping\n",
    "import numpy as np\n",
    "\n",
    "def get_logfreqs(data : Iterable[str]) -> Mapping[str, int]: \n",
    "    counts = {}\n",
    "    total = 0\n",
    "    for w in data:\n",
    "        counts[w] = counts.get(w, 0) + 1\n",
    "        total += 1\n",
    "        \n",
    "    logprobs = {}\n",
    "    for w, c in counts.items():\n",
    "        logprobs[w] = np.log2(c) - np.log2(total)\n",
    "        \n",
    "    return logprobs\n",
    "\n",
    "pos_ulm = get_logfreqs(pos_data)\n",
    "neg_ulm = get_logfreqs(neg_data)"
   ]
  },
  {
   "cell_type": "markdown",
   "id": "ba8868a0-74c9-4bd6-9b3f-c00da7b2cbf5",
   "metadata": {},
   "source": [
    "Unfortunately, this likelihood model is not enough (as you might remember from 128!) --- the top 10 most-frequent tokens in our positive and negative unigram LMs are very similar: just highly frequent, content-neutral words & punctuation. These kinds of tokens are often referred to as *stop words*, and for some methods are pre-processed out."
   ]
  },
  {
   "cell_type": "code",
   "execution_count": null,
   "id": "8450f5c2-d795-4b51-acd8-9032a6ce2df0",
   "metadata": {},
   "outputs": [],
   "source": [
    "print(\"top positive tokens: {}\".format(\", \".join(sorted(pos_ulm, key=pos_ulm.get, reverse=True)[:10])))\n",
    "print(\"top negative tokens: {}\".format(\", \".join(sorted(neg_ulm, key=neg_ulm.get, reverse=True)[:10])))"
   ]
  },
  {
   "cell_type": "markdown",
   "id": "88079a52-7445-48fa-b6b6-3e7865ef5d60",
   "metadata": {},
   "source": [
    "Now let's build our Native Bayes Classifier! Again, for each input $\\omega$ we just need to compute the predicted label $hat{c}(\\omega)$, defined as so:\n",
    "\n",
    "$$ \\hat{c}(\\omega) = \\text{arg} \\max\\limits_{c \\in C} \\prod_{w \\in \\omega} p(w \\mid c) p(c) $$\n",
    "\n",
    "You just need to translate this into code! To make it easier, we can note that since our training data is *balanced* $p(c)$ is *uniform*: That means, both classes have equal frequency in our data! I am going to claim that this means we can ignore the $p(c)$ term --- make sure you understand why this is true!\n",
    "\n",
    "Also keep in mind that in code, we work in *log probs* --- what does the equation look like then?\n",
    "\n",
    "A few implementation tricks:\n",
    "- if a word is not in the vocabulary (i.e., seen in the data), we ignore it. Since we're comparing across classes, something both unigram models can't model shouldn't influence our decision making. "
   ]
  },
  {
   "cell_type": "code",
   "execution_count": null,
   "id": "81fef192-1aec-481b-989e-b1ade26da828",
   "metadata": {},
   "outputs": [],
   "source": [
    "class NaiveBayesSentimentClassifier:\n",
    "\n",
    "    def __init__(self, pos_data : Iterable[str], neg_data : Iterable[str]):\n",
    "        self.classes = [\"pos\", \"neg\"]\n",
    "        self.ulm = {}\n",
    "        \n",
    "        self.vocab = set(pos_data + neg_data)\n",
    "        \n",
    "        self.ulm[\"pos\"] = self.get_logfreqs(pos_data)\n",
    "        self.ulm[\"neg\"] = self.get_logfreqs(neg_data)\n",
    "\n",
    "\n",
    "    def get_logfreqs(self, data : Iterable[str]) -> Mapping[str, int]: \n",
    "        counts = {}\n",
    "        total = 0\n",
    "        for w in data:\n",
    "            counts[w] = counts.get(w, 0) + 1\n",
    "            total += 1\n",
    "        \n",
    "        logprobs = {}\n",
    "        for w, c in counts.items():\n",
    "            logprobs[w] = np.log2(c) - np.log2(total)\n",
    "        \n",
    "        return logprobs\n",
    "\n",
    "    def label(self, example : Iterable[str]) -> str:\n",
    "        # TODO: Complete the function!\n",
    "        # for each class (positive and negative)\n",
    "            # compute the log likelihood\n",
    "        # determine the class with the highest log likelihood and return it\n",
    "        \n",
    "        return None"
   ]
  },
  {
   "cell_type": "code",
   "execution_count": null,
   "id": "1b3e3bf1-957a-4ccf-8f20-7ba90ca926b6",
   "metadata": {},
   "outputs": [],
   "source": [
    "imdb_bayes = NaiveBayesSentimentClassifier(pos_data, neg_data)\n"
   ]
  },
  {
   "cell_type": "markdown",
   "id": "24794e25-2b7f-4e7d-8360-6cde127ff817",
   "metadata": {},
   "source": [
    "### Testing!\n",
    "\n",
    "Now let's test our model's accuracy!\n",
    "\n",
    "Each review is newline separated, so we'll split on newlines and check the label our model produces for each one."
   ]
  },
  {
   "cell_type": "code",
   "execution_count": null,
   "id": "67d3f46b-7f93-44d1-b445-a04ea2d3dc18",
   "metadata": {},
   "outputs": [],
   "source": [
    "test_path = \"./data/test/{}.txt\"\n",
    "\n",
    "with open(test_path.format(\"pos\")) as pos_data_f:\n",
    "    pos_test = pos_data_f.read().split(\"\\n\")\n",
    "\n",
    "with open(test_path.format(\"neg\")) as neg_data_f:\n",
    "    neg_test = neg_data_f.read().split(\"\\n\")"
   ]
  },
  {
   "cell_type": "code",
   "execution_count": null,
   "id": "feb5d1f9-37f8-4937-bf7f-fe7d0b0d261f",
   "metadata": {},
   "outputs": [],
   "source": [
    "print(imdb_bayes.label(neg_test[0].split())) # should classify as negative!\n",
    "print(imdb_bayes.label(pos_test[42].split())) # should classify as positive!"
   ]
  },
  {
   "cell_type": "markdown",
   "id": "abcb8948-b737-4f0b-8edf-a5f08f5fb0e0",
   "metadata": {},
   "source": [
    "If all goes well, we should get the two given examples right!\n",
    "\n",
    "However, we have a bit of a problem... The first is that a lot of reviews will actually have likelihood of 0 --- it contains a word that's only in positive training examples and another word that's only in negative training examples!\n",
    "\n",
    "For example, the following example contains the token *submarine* that never appeared in a positive review in training, and the token *pendant* which never appeared in a negative review in training, thus giving it 0 likelihood under both unigram models!"
   ]
  },
  {
   "cell_type": "code",
   "execution_count": null,
   "id": "1ba59148-08b6-4d39-94ae-ea3da375c847",
   "metadata": {},
   "outputs": [],
   "source": [
    "print(pos_test[0])\n",
    "print(imdb_bayes.label(pos_test[0].split())) # The label depends on the your disambiguation strategy!"
   ]
  },
  {
   "cell_type": "markdown",
   "id": "690ddbfe-9bbb-4515-b1fb-7a8deeb912d1",
   "metadata": {},
   "source": [
    "Depending on how you wrote your argmax code, this could result in a label being assigned by default (if both have a log-likelihood of $-\\infty$ --- or any matching log-likelihood for that matter --- one specific label gets returned), you could return a label at random, or you could be extra conservative in your evaluation and return None or a 3rd label to ensure your model get's that example incorrect when testing.\n",
    "\n",
    "An easy and practical solution to this is to do something you should be very familiar with: Laplace/add-1 smoothing! It should be straightforward enough to create a smoothed version of our classifier by updating the `get_logfreqs` methods of the class, so let's inherit from our old classifier and override that method!"
   ]
  },
  {
   "cell_type": "code",
   "execution_count": null,
   "id": "7679049f-0c86-4e3c-a2e2-2d9429db189a",
   "metadata": {},
   "outputs": [],
   "source": [
    "class LaplaceNaiveBayesSentimentClassifier(NaiveBayesSentimentClassifier):\n",
    "    \n",
    "    def get_logfreqs(self, data : Iterable[str]) -> Mapping[str, int]: \n",
    "        # TODO: Rewrite so we output a dictionary that maps every word in our \n",
    "        # vocab to it's laplace count\n",
    "        return {}"
   ]
  },
  {
   "cell_type": "code",
   "execution_count": null,
   "id": "e7f3bc5b-028f-4795-b5d1-eb240c658092",
   "metadata": {},
   "outputs": [],
   "source": [
    "smoothed_imdb_bayes = LaplaceNaiveBayesSentimentClassifier(pos_data, neg_data)"
   ]
  },
  {
   "cell_type": "markdown",
   "id": "0fa4eb74-44cc-4012-b0a9-1d712020c327",
   "metadata": {},
   "source": [
    "And now we can verify:"
   ]
  },
  {
   "cell_type": "code",
   "execution_count": null,
   "id": "37859a25-bd0d-4608-bcb9-0dfe136175f5",
   "metadata": {},
   "outputs": [],
   "source": [
    "print(smoothed_imdb_bayes.label(pos_test[0].split())) # Should now be classified correctly!"
   ]
  },
  {
   "cell_type": "markdown",
   "id": "166738f3-0504-4e13-870b-4de14090ccd9",
   "metadata": {},
   "source": [
    "To close us out for Naive Bayes, lets actually compute our model's accuracy over the test set. Just loop over both halves of the test set and count how many we get right!"
   ]
  },
  {
   "cell_type": "code",
   "execution_count": null,
   "id": "79414375-130d-44f9-a288-6073a453c9cb",
   "metadata": {},
   "outputs": [],
   "source": [
    "def evaluate(model : NaiveBayesSentimentClassifier, test_pos : Iterable[str], test_neg : Iterable[str]) -> float:\n",
    "    # TODO: Complete this\n",
    "    return 0.0"
   ]
  },
  {
   "cell_type": "code",
   "execution_count": null,
   "id": "4485d83f-ed71-4db4-bbfc-86d6e74ea761",
   "metadata": {},
   "outputs": [],
   "source": [
    "evaluate(imdb_bayes, pos_test, neg_test)"
   ]
  },
  {
   "cell_type": "code",
   "execution_count": null,
   "id": "089bf9fa-c528-4e22-8c3b-8e81340e1964",
   "metadata": {},
   "outputs": [],
   "source": [
    "evaluate(smoothed_imdb_bayes, pos_test, neg_test)"
   ]
  },
  {
   "cell_type": "markdown",
   "id": "3a00382c-b371-47f4-92be-5c78000c73fa",
   "metadata": {},
   "source": [
    "Your test-set accuracy for the unsmoothed model should be somewhere between 22--92% (probably closer to 57%), since it's guessing on a whopping 70% of examples! The smoothed model should land at a much more stable ~83% --- Not so bad!"
   ]
  }
 ],
 "metadata": {
  "kernelspec": {
   "display_name": "Python 3 (ipykernel)",
   "language": "python",
   "name": "python3"
  },
  "language_info": {
   "codemirror_mode": {
    "name": "ipython",
    "version": 3
   },
   "file_extension": ".py",
   "mimetype": "text/x-python",
   "name": "python",
   "nbconvert_exporter": "python",
   "pygments_lexer": "ipython3",
   "version": "3.10.12"
  }
 },
 "nbformat": 4,
 "nbformat_minor": 5
}
